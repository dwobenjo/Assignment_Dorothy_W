{
 "cells": [
  {
   "cell_type": "markdown",
   "id": "573aeb13-62b5-44d2-9e35-ce1215415392",
   "metadata": {},
   "source": [
    "# 1. Given a list of integers, [1, 2, 3, 4, 5], write a list comprehension that returns a new list where each number is squared, cubed and another one as power of itself.\n"
   ]
  },
  {
   "cell_type": "code",
   "execution_count": 1,
   "id": "31e63b4f-97d3-4653-b55a-5139cf082704",
   "metadata": {
    "tags": []
   },
   "outputs": [
    {
     "name": "stdout",
     "output_type": "stream",
     "text": [
      "The square of numbers is: [1, 4, 9, 16, 25]\n",
      "The cube of numbers is: [1, 8, 27, 64, 125]\n",
      "The power of numbers is: [1, 4, 27, 256, 3125]\n",
      "The square, cubes and power of numbers is: [(1, 1, 1), (4, 8, 4), (9, 27, 27), (16, 64, 256), (25, 125, 3125)]\n"
     ]
    }
   ],
   "source": [
    "\n",
    "nums = [1, 2, 3, 4, 5]\n",
    "\n",
    "# squared\n",
    "squared = [n**2 for n in nums]\n",
    "print(\"The square of numbers is:\", squared)\n",
    "\n",
    "# cubed\n",
    "cubed = [n**3 for n in nums]\n",
    "print(\"The cube of numbers is:\", cubed)\n",
    "\n",
    "# pqwer of itself\n",
    "power = [n**n for n in nums]\n",
    "print(\"The power of numbers is:\", power)\n",
    "\n",
    "# combined\n",
    "combined = [(n**2, n**3, n**n) for n in nums]\n",
    "print(\"The square, cubes and power of numbers is:\", combined)"
   ]
  },
  {
   "cell_type": "markdown",
   "id": "9d66609d-1dc3-4e2e-92c4-9bd92aff83c3",
   "metadata": {},
   "source": [
    "# 2a Write a list comprehension that filters out only the even numbers from the list [10, 15, 20, 25, 30, 35].\n"
   ]
  },
  {
   "cell_type": "code",
   "execution_count": 2,
   "id": "a1b81307-a428-4b5d-87b4-8988d631fde8",
   "metadata": {
    "tags": []
   },
   "outputs": [
    {
     "data": {
      "text/plain": [
       "[10, 20, 30]"
      ]
     },
     "execution_count": 2,
     "metadata": {},
     "output_type": "execute_result"
    }
   ],
   "source": [
    "numbers = [10, 15, 20, 25, 30, 35]\n",
    "even_numbers = [num for num in numbers if num%2==0]\n",
    "even_numbers"
   ]
  },
  {
   "cell_type": "markdown",
   "id": "dd61e709-7665-42c3-804f-b907d9f25e0e",
   "metadata": {},
   "source": [
    "# 2b Write a list comprehenion/for loop that retuns every 4th vlaue in  range of 1 to 100"
   ]
  },
  {
   "cell_type": "code",
   "execution_count": 3,
   "id": "084ac318-6b68-4c66-9f88-0cce32cc95b7",
   "metadata": {
    "tags": []
   },
   "outputs": [
    {
     "name": "stdout",
     "output_type": "stream",
     "text": [
      "The 4th values are: [4, 8, 12, 16, 20, 24, 28, 32, 36, 40, 44, 48, 52, 56, 60, 64, 68, 72, 76, 80, 84, 88, 92, 96, 100]\n"
     ]
    }
   ],
   "source": [
    "fourth = [num for num in range(1, 101) if num % 4 == 0]\n",
    "print(\"The 4th values are:\", fourth)\n"
   ]
  },
  {
   "cell_type": "markdown",
   "id": "b0caa0be-fa5b-4cf8-a5ef-56c3dc218037",
   "metadata": {},
   "source": [
    "# 3a. You have a list of strings, [\"apple\", \"banana\", \"cherry\"]. Write a list comprehension that converts each string to uppercase."
   ]
  },
  {
   "cell_type": "code",
   "execution_count": 4,
   "id": "0af1c36b-16da-4a94-a827-74fb9373bce5",
   "metadata": {},
   "outputs": [
    {
     "data": {
      "text/plain": [
       "['APPLE', 'BANANA', 'CHERRY']"
      ]
     },
     "execution_count": 4,
     "metadata": {},
     "output_type": "execute_result"
    }
   ],
   "source": [
    "fruits =  [\"apple\", \"banana\", \"cherry\"]\n",
    "upper = [f.upper() for f in fruits]\n",
    "upper"
   ]
  },
  {
   "cell_type": "markdown",
   "id": "da3c5561-499c-496e-91f4-f160a70fadf4",
   "metadata": {},
   "source": [
    "# 3b. Now create a dictionary comprehension  to output the fruit as key and length of each character in the fruit as value"
   ]
  },
  {
   "cell_type": "code",
   "execution_count": 5,
   "id": "658d7892-2afd-4478-84f2-209837ffc9de",
   "metadata": {},
   "outputs": [
    {
     "name": "stdout",
     "output_type": "stream",
     "text": [
      "{'apple': 5, 'banana': 6, 'cherry': 6}\n"
     ]
    }
   ],
   "source": [
    "fruits =  [\"apple\", \"banana\", \"cherry\"]\n",
    "fruit_dict = {f: len(f) for f in fruits}\n",
    "print(fruit_dict)\n"
   ]
  },
  {
   "cell_type": "markdown",
   "id": "af5c1065-e627-4ce8-ad90-47ff555e5a8b",
   "metadata": {},
   "source": [
    "# 4. Given a list of numbers [1, 2, 3, 4, 5, 6], write a single list comprehension that returns: \"even\" for each even number, and \"odd\" for each odd number.\n"
   ]
  },
  {
   "cell_type": "code",
   "execution_count": 6,
   "id": "9af1bd68-7dd2-40b5-a4b9-bd5c1abfc8f2",
   "metadata": {},
   "outputs": [
    {
     "data": {
      "text/plain": [
       "['odd', 'even', 'odd', 'even', 'odd', 'even']"
      ]
     },
     "execution_count": 6,
     "metadata": {},
     "output_type": "execute_result"
    }
   ],
   "source": [
    "numbers = [1, 2, 3, 4, 5, 6]\n",
    "even_odd_list = [\"even\" if num % 2 == 0 else \"odd\" for num in numbers]\n",
    "even_odd_list\n"
   ]
  },
  {
   "cell_type": "markdown",
   "id": "4629720b-9429-4a92-8272-d2a01b47a388",
   "metadata": {},
   "source": [
    "# 5a Suppose you have a list of words like [\"John\", \"Jane\", \"Erick\", \"Benard\", \"Comprehension\"]. Write a list comprehension that extracts the first letter from each word."
   ]
  },
  {
   "cell_type": "code",
   "execution_count": 7,
   "id": "9cdfd88c-0578-42b2-b6c1-b6c18630e732",
   "metadata": {},
   "outputs": [
    {
     "data": {
      "text/plain": [
       "['J', 'J', 'E', 'B', 'C']"
      ]
     },
     "execution_count": 7,
     "metadata": {},
     "output_type": "execute_result"
    }
   ],
   "source": [
    "letters = [\"John\", \"Jane\", \"Erick\", \"Benard\", \"Comprehension\"]\n",
    "first_letter = [l[0] for l in letters]\n",
    "first_letter\n"
   ]
  },
  {
   "cell_type": "markdown",
   "id": "e50287bf-3171-4ae5-8c64-1fd94b573710",
   "metadata": {
    "tags": []
   },
   "source": [
    "# 5b. Save the outputs as dictionary using dictionary comprehension to show the name of each individual as key and first charatcer as value\n"
   ]
  },
  {
   "cell_type": "code",
   "execution_count": 8,
   "id": "f0cd8520-2680-4221-9b06-ae76b38be322",
   "metadata": {},
   "outputs": [
    {
     "data": {
      "text/plain": [
       "{'John': 'J', 'Jane': 'J', 'Erick': 'E', 'Benard': 'B', 'Comprehension': 'C'}"
      ]
     },
     "execution_count": 8,
     "metadata": {},
     "output_type": "execute_result"
    }
   ],
   "source": [
    "letters = [\"John\", \"Jane\", \"Erick\", \"Benard\", \"Comprehension\"]\n",
    "letter_dict = {l: l[0] for l in letters}\n",
    "letter_dict"
   ]
  },
  {
   "cell_type": "markdown",
   "id": "a3f6fc7d-b2f8-4d70-b260-3f58ce186df5",
   "metadata": {},
   "source": [
    "# 5c. Convert the outputs of number 1 to 5b as functions and test them"
   ]
  },
  {
   "cell_type": "code",
   "execution_count": 9,
   "id": "01f09a3e-e9c9-4f40-9871-02de2c2ce35c",
   "metadata": {},
   "outputs": [
    {
     "data": {
      "text/plain": [
       "[(1, 1, 1), (4, 8, 4), (9, 27, 27), (16, 64, 256), (25, 125, 3125)]"
      ]
     },
     "execution_count": 9,
     "metadata": {},
     "output_type": "execute_result"
    }
   ],
   "source": [
    "# square, cubes and power function\n",
    "def sq_cube_power(n):\n",
    "    num = range(1, n+1)\n",
    "    sq_cube_power = [(n**2, n**3, n**n) for n in nums]\n",
    "    return(sq_cube_power)\n",
    "\n",
    "# tesing\n",
    "sq_cube_power(5)"
   ]
  },
  {
   "cell_type": "code",
   "execution_count": 10,
   "id": "33b1e870-ae15-4031-bbca-353438be62b8",
   "metadata": {
    "tags": []
   },
   "outputs": [
    {
     "data": {
      "text/plain": [
       "[2, 4, 6]"
      ]
     },
     "execution_count": 10,
     "metadata": {},
     "output_type": "execute_result"
    }
   ],
   "source": [
    "# even numbers function\n",
    "def even_nums(n):\n",
    "    num = range(1, n+1)\n",
    "    even_nums = [num for num in numbers if num%2==0]\n",
    "    return(even_nums)\n",
    "# tesing\n",
    "even_nums(10)"
   ]
  },
  {
   "cell_type": "code",
   "execution_count": 11,
   "id": "b0f6209e-6a2a-4609-a655-a98416684a8d",
   "metadata": {
    "tags": []
   },
   "outputs": [
    {
     "name": "stdout",
     "output_type": "stream",
     "text": [
      "[4, 8, 12, 16, 20]\n"
     ]
    }
   ],
   "source": [
    "# 4th vlaue in a range function\n",
    "def fourth_value(n):\n",
    "    fourth_values = [num for num in range(1, n+1) if num % 4 == 0]\n",
    "    return fourth_values  \n",
    "\n",
    "# Testing\n",
    "print(fourth_value(20)) \n"
   ]
  },
  {
   "cell_type": "code",
   "execution_count": 12,
   "id": "5ea30752-5b4e-454d-b192-ce15e01213cf",
   "metadata": {
    "tags": []
   },
   "outputs": [
    {
     "data": {
      "text/plain": [
       "['APPLE', 'BANANA', 'CHERRY']"
      ]
     },
     "execution_count": 12,
     "metadata": {},
     "output_type": "execute_result"
    }
   ],
   "source": [
    "# function for string to uppercase\n",
    "def upper_case(fruit):\n",
    "    upper_case = [f.upper() for f in fruit]\n",
    "    return(upper_case)\n",
    "\n",
    "# testing\n",
    "fruits =  [\"apple\", \"banana\", \"cherry\"]\n",
    "upper_case(fruits)\n"
   ]
  },
  {
   "cell_type": "code",
   "execution_count": 13,
   "id": "fc6c10d7-5f53-4186-8cf2-b39054ce935d",
   "metadata": {
    "tags": []
   },
   "outputs": [
    {
     "data": {
      "text/plain": [
       "{'apple': 5, 'banana': 6, 'cherry': 6}"
      ]
     },
     "execution_count": 13,
     "metadata": {},
     "output_type": "execute_result"
    }
   ],
   "source": [
    "#  function for fruit kkey and length\n",
    "def fruit_key_length(fruit):\n",
    "    fruit_key_length = {f: len(f) for f in fruits}\n",
    "    return(fruit_key_length)\n",
    "\n",
    "# testing\n",
    "fruits =  [\"apple\", \"banana\", \"cherry\"]\n",
    "fruit_key_length(fruits)"
   ]
  },
  {
   "cell_type": "code",
   "execution_count": 14,
   "id": "0ff7193e-1c4c-4706-a8a5-ef896c235c65",
   "metadata": {
    "tags": []
   },
   "outputs": [
    {
     "data": {
      "text/plain": [
       "['odd', 'even', 'odd', 'even', 'odd', 'even']"
      ]
     },
     "execution_count": 14,
     "metadata": {},
     "output_type": "execute_result"
    }
   ],
   "source": [
    "# function for even and odd\n",
    "def even_odd(n):\n",
    "    num = range(1, n+1)\n",
    "    even_odd = [\"even\" if num % 2 == 0 else \"odd\" for num in numbers]\n",
    "    return(even_odd)\n",
    "\n",
    "# tesing\n",
    "even_odd(10)"
   ]
  },
  {
   "cell_type": "code",
   "execution_count": 15,
   "id": "b7735361-b942-4f2c-9121-c4720e103fc1",
   "metadata": {
    "tags": []
   },
   "outputs": [
    {
     "data": {
      "text/plain": [
       "['J', 'J', 'E', 'B', 'C']"
      ]
     },
     "execution_count": 15,
     "metadata": {},
     "output_type": "execute_result"
    }
   ],
   "source": [
    "# function for first letter from each word\n",
    "def first_letters(letter):\n",
    "    first_letters = [l[0] for l in letters]\n",
    "    return(first_letters)\n",
    "\n",
    "# testing\n",
    "letters = [\"John\", \"Jane\", \"Erick\", \"Benard\", \"Comprehension\"]\n",
    "first_letters(letters)"
   ]
  },
  {
   "cell_type": "code",
   "execution_count": 16,
   "id": "e25af2ff-307c-4786-84a4-4449f91b359c",
   "metadata": {
    "tags": []
   },
   "outputs": [
    {
     "data": {
      "text/plain": [
       "{'John': 'J', 'Jane': 'J', 'Erick': 'E', 'Benard': 'B', 'Comprehension': 'C'}"
      ]
     },
     "execution_count": 16,
     "metadata": {},
     "output_type": "execute_result"
    }
   ],
   "source": [
    "# function name as key and first charatcer as value\n",
    "def name_key(letter):\n",
    "    name_key = {l: l[0] for l in letters}\n",
    "    return(name_key)\n",
    "\n",
    "# testing\n",
    "letters = [\"John\", \"Jane\", \"Erick\", \"Benard\", \"Comprehension\"]\n",
    "name_key(letters)"
   ]
  },
  {
   "cell_type": "markdown",
   "id": "885693f9-fa1c-45dd-bf44-a023bba016b3",
   "metadata": {},
   "source": [
    "# 6. Using a lists and dictionary of your choice, create  a dictionary containing 4 lists (full name, age, weight, location, gender) of 10 students."
   ]
  },
  {
   "cell_type": "code",
   "execution_count": 17,
   "id": "9cead665-a032-4120-a4e4-cc7b028771ed",
   "metadata": {},
   "outputs": [
    {
     "name": "stdout",
     "output_type": "stream",
     "text": [
      "{'Full_Name': ['Dotty Wobs', 'Joy Bosibori', 'Chris Otiato', 'Ella Atieno', 'Mich Ngugi', 'Godwin Dama', 'Faith Kong', 'Daudi Senge', 'James Lau', 'Jane okot'], 'Age': [29, 21, 20, 18, 22, 22, 20, 19, 21, 20], 'Weight': [50, 54, 58, 61, 65, 58, 62, 55, 61, 57], 'Location': ['Mombasa', 'Kisii', 'Busia', 'Kiambu', 'Eldoret', 'Nakuru', 'Kericho', 'Voi', 'Taita', 'Soy'], 'Gender': ['Female', 'Female', 'Male', 'Female', 'Male', 'Male', 'Female', 'Male', 'Male', 'Female']}\n"
     ]
    }
   ],
   "source": [
    "students_info = {\n",
    "    \"Full_Name\": [\"Dotty Wobs\", \"Joy Bosibori\", \"Chris Otiato\", \"Ella Atieno\", \"Mich Ngugi\", \n",
    "                  \"Godwin Dama\", \"Faith Kong\", \"Daudi Senge\", \"James Lau\", \"Jane okot\"],\n",
    "    \n",
    "    \"Age\": [29, 21, 20, 18, 22, 22, 20, 19, 21, 20],\n",
    "    \n",
    "    \"Weight\": [50, 54, 58, 61, 65, 58, 62, 55, 61, 57],\n",
    "    \n",
    "    \"Location\": [\"Mombasa\", \"Kisii\", \"Busia\", \"Kiambu\", \"Eldoret\", \n",
    "                 \"Nakuru\", \"Kericho\", \"Voi\", \"Taita\", \"Soy\"],\n",
    "    \n",
    "    \"Gender\": [\"Female\", \"Female\", \"Male\", \"Female\", \"Male\", \n",
    "               \"Male\", \"Female\", \"Male\", \"Male\", \"Female\"]\n",
    "}\n",
    "\n",
    "# Printing the dictionary\n",
    "print(students_info)\n"
   ]
  },
  {
   "cell_type": "markdown",
   "id": "3377516f-e640-4c35-927a-7835fc807fa1",
   "metadata": {},
   "source": [
    "# 7. Convert the output of number six above into pandas dataframes"
   ]
  },
  {
   "cell_type": "code",
   "execution_count": 18,
   "id": "3d948e24-0300-4fef-b237-3533c5693a2a",
   "metadata": {},
   "outputs": [
    {
     "data": {
      "text/html": [
       "<div>\n",
       "<style scoped>\n",
       "    .dataframe tbody tr th:only-of-type {\n",
       "        vertical-align: middle;\n",
       "    }\n",
       "\n",
       "    .dataframe tbody tr th {\n",
       "        vertical-align: top;\n",
       "    }\n",
       "\n",
       "    .dataframe thead th {\n",
       "        text-align: right;\n",
       "    }\n",
       "</style>\n",
       "<table border=\"1\" class=\"dataframe\">\n",
       "  <thead>\n",
       "    <tr style=\"text-align: right;\">\n",
       "      <th></th>\n",
       "      <th>Full_Name</th>\n",
       "      <th>Age</th>\n",
       "      <th>Weight</th>\n",
       "      <th>Location</th>\n",
       "      <th>Gender</th>\n",
       "    </tr>\n",
       "  </thead>\n",
       "  <tbody>\n",
       "    <tr>\n",
       "      <th>0</th>\n",
       "      <td>Dotty Wobs</td>\n",
       "      <td>29</td>\n",
       "      <td>50</td>\n",
       "      <td>Mombasa</td>\n",
       "      <td>Female</td>\n",
       "    </tr>\n",
       "    <tr>\n",
       "      <th>1</th>\n",
       "      <td>Joy Bosibori</td>\n",
       "      <td>21</td>\n",
       "      <td>54</td>\n",
       "      <td>Kisii</td>\n",
       "      <td>Female</td>\n",
       "    </tr>\n",
       "    <tr>\n",
       "      <th>2</th>\n",
       "      <td>Chris Otiato</td>\n",
       "      <td>20</td>\n",
       "      <td>58</td>\n",
       "      <td>Busia</td>\n",
       "      <td>Male</td>\n",
       "    </tr>\n",
       "    <tr>\n",
       "      <th>3</th>\n",
       "      <td>Ella Atieno</td>\n",
       "      <td>18</td>\n",
       "      <td>61</td>\n",
       "      <td>Kiambu</td>\n",
       "      <td>Female</td>\n",
       "    </tr>\n",
       "    <tr>\n",
       "      <th>4</th>\n",
       "      <td>Mich Ngugi</td>\n",
       "      <td>22</td>\n",
       "      <td>65</td>\n",
       "      <td>Eldoret</td>\n",
       "      <td>Male</td>\n",
       "    </tr>\n",
       "  </tbody>\n",
       "</table>\n",
       "</div>"
      ],
      "text/plain": [
       "      Full_Name  Age  Weight Location  Gender\n",
       "0    Dotty Wobs   29      50  Mombasa  Female\n",
       "1  Joy Bosibori   21      54    Kisii  Female\n",
       "2  Chris Otiato   20      58    Busia    Male\n",
       "3   Ella Atieno   18      61   Kiambu  Female\n",
       "4    Mich Ngugi   22      65  Eldoret    Male"
      ]
     },
     "execution_count": 18,
     "metadata": {},
     "output_type": "execute_result"
    }
   ],
   "source": [
    "import pandas as pd\n",
    "students = pd.DataFrame(students_info)\n",
    "students.head()"
   ]
  },
  {
   "cell_type": "markdown",
   "id": "fca1f676-e1d8-4ac2-8ad2-1572aa7fccf3",
   "metadata": {},
   "source": [
    "# 8. Now create a new dictionary of key as name of students in number six and value as gender of students using dictionary comprehensions"
   ]
  },
  {
   "cell_type": "code",
   "execution_count": 21,
   "id": "0c5ff343-9381-4f1b-a4c9-e3a7381ea346",
   "metadata": {},
   "outputs": [
    {
     "data": {
      "text/plain": [
       "{'Dotty Wobs': 'Female',\n",
       " 'Joy Bosibori': 'Female',\n",
       " 'Chris Otiato': 'Male',\n",
       " 'Ella Atieno': 'Female',\n",
       " 'Mich Ngugi': 'Male',\n",
       " 'Godwin Dama': 'Male',\n",
       " 'Faith Kong': 'Female',\n",
       " 'Daudi Senge': 'Male',\n",
       " 'James Lau': 'Male',\n",
       " 'Jane okot': 'Female'}"
      ]
     },
     "execution_count": 21,
     "metadata": {},
     "output_type": "execute_result"
    }
   ],
   "source": [
    "# Extract names and gender\n",
    "name_gender = {name: gender for name, gender in zip(students_info[\"Full_Name\"], students_info[\"Gender\"])}\n",
    "\n",
    "# Displaying the new dictionary\n",
    "name_gender\n"
   ]
  },
  {
   "cell_type": "code",
   "execution_count": null,
   "id": "45668a31-6367-48ce-a128-94b2f28dcd13",
   "metadata": {},
   "outputs": [],
   "source": [
    "# "
   ]
  }
 ],
 "metadata": {
  "kernelspec": {
   "display_name": "Python 3 (ipykernel)",
   "language": "python",
   "name": "python3"
  },
  "language_info": {
   "codemirror_mode": {
    "name": "ipython",
    "version": 3
   },
   "file_extension": ".py",
   "mimetype": "text/x-python",
   "name": "python",
   "nbconvert_exporter": "python",
   "pygments_lexer": "ipython3",
   "version": "3.11.5"
  }
 },
 "nbformat": 4,
 "nbformat_minor": 5
}
